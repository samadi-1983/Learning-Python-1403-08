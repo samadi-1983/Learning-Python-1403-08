{
 "cells": [
  {
   "cell_type": "markdown",
   "metadata": {},
   "source": [
    "#16"
   ]
  },
  {
   "cell_type": "code",
   "execution_count": 1,
   "metadata": {},
   "outputs": [
    {
     "name": "stdout",
     "output_type": "stream",
     "text": [
      "Stored 0 news articles in the database.\n"
     ]
    }
   ],
   "source": [
    "# Importing necessary libraries\n",
    "import requests\n",
    "from bs4 import BeautifulSoup\n",
    "import sqlite3\n",
    "from datetime import datetime\n",
    "\n",
    "# Step 1: Define the URL and scrape the webpage\n",
    "base_url = \"https://www.iranjib.ir\"\n",
    "gold_currency_url = f\"{base_url}/category/20/اخبار-طلا-و-ارز/\"\n",
    "\n",
    "# Function to fetch the HTML content\n",
    "def fetch_html(url):\n",
    "    response = requests.get(url)\n",
    "    if response.status_code == 200:\n",
    "        return response.text\n",
    "    else:\n",
    "        print(f\"Failed to fetch {url}. Status code: {response.status_code}\")\n",
    "        return None\n",
    "\n",
    "# Step 2: Parse the HTML content to extract news data\n",
    "def parse_news(html_content):\n",
    "    soup = BeautifulSoup(html_content, \"html.parser\")\n",
    "    news_list = []\n",
    "\n",
    "    # Find the news articles\n",
    "    articles = soup.find_all(\"div\", class_=\"news-item\")  # Adjust the class name based on the website's structure\n",
    "\n",
    "    for article in articles:\n",
    "        title = article.find(\"h3\").text.strip()\n",
    "        link = base_url + article.find(\"a\")[\"href\"].strip()\n",
    "        date_text = article.find(\"span\", class_=\"date\").text.strip()  # Adjust based on site\n",
    "        summary = article.find(\"p\").text.strip() if article.find(\"p\") else \"No summary available\"\n",
    "\n",
    "        # Convert date to standard format\n",
    "        try:\n",
    "            published_date = datetime.strptime(date_text, \"%Y/%m/%d\")\n",
    "        except ValueError:\n",
    "            published_date = None\n",
    "\n",
    "        news_list.append((title, link, published_date, summary))\n",
    "\n",
    "    return news_list\n",
    "\n",
    "# Step 3: Store the data in SQLite\n",
    "def store_data_in_db(news_list):\n",
    "    conn = sqlite3.connect(\"news_data.db\")\n",
    "    cursor = conn.cursor()\n",
    "\n",
    "    # Create table if not exists\n",
    "    cursor.execute(\"\"\"\n",
    "    CREATE TABLE IF NOT EXISTS gold_currency_news (\n",
    "        id INTEGER PRIMARY KEY AUTOINCREMENT,\n",
    "        title TEXT,\n",
    "        link TEXT,\n",
    "        published_date DATE,\n",
    "        summary TEXT\n",
    "    )\n",
    "    \"\"\")\n",
    "\n",
    "    # Insert data\n",
    "    for news in news_list:\n",
    "        cursor.execute(\"\"\"\n",
    "        INSERT INTO gold_currency_news (title, link, published_date, summary)\n",
    "        VALUES (?, ?, ?, ?)\n",
    "        \"\"\", news)\n",
    "\n",
    "    conn.commit()\n",
    "    conn.close()\n",
    "\n",
    "# Main script\n",
    "if __name__ == \"__main__\":\n",
    "    html_content = fetch_html(gold_currency_url)\n",
    "    if html_content:\n",
    "        news_data = parse_news(html_content)\n",
    "        store_data_in_db(news_data)\n",
    "        print(f\"Stored {len(news_data)} news articles in the database.\")\n"
   ]
  }
 ],
 "metadata": {
  "kernelspec": {
   "display_name": "Python 3",
   "language": "python",
   "name": "python3"
  },
  "language_info": {
   "codemirror_mode": {
    "name": "ipython",
    "version": 3
   },
   "file_extension": ".py",
   "mimetype": "text/x-python",
   "name": "python",
   "nbconvert_exporter": "python",
   "pygments_lexer": "ipython3",
   "version": "3.10.11"
  }
 },
 "nbformat": 4,
 "nbformat_minor": 2
}
