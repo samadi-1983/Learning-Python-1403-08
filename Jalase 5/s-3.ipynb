{
 "cells": [
  {
   "cell_type": "code",
   "execution_count": 5,
   "metadata": {},
   "outputs": [
    {
     "name": "stdout",
     "output_type": "stream",
     "text": [
      "  *\n",
      " ***\n",
      "*****\n",
      " ***\n",
      "  *\n"
     ]
    }
   ],
   "source": [
    "\n",
    "\n",
    "\n",
    "def print_arrow_pattern(n):\n",
    "   \n",
    "    for i in range(n):\n",
    "        print(' ' * (n - i - 1) + '*' * (2 * i + 1))\n",
    "\n",
    "   \n",
    "    for i in range(n - 2, -1, -1):\n",
    "        print(' ' * (n - i - 1) + '*' * (2 * i + 1))\n",
    "\n",
    "\n",
    "number = int(input(\"Enter a number: \"))\n",
    "print_arrow_pattern(number)\n",
    "\n",
    "\n"
   ]
  }
 ],
 "metadata": {
  "kernelspec": {
   "display_name": "Python 3",
   "language": "python",
   "name": "python3"
  },
  "language_info": {
   "codemirror_mode": {
    "name": "ipython",
    "version": 3
   },
   "file_extension": ".py",
   "mimetype": "text/x-python",
   "name": "python",
   "nbconvert_exporter": "python",
   "pygments_lexer": "ipython3",
   "version": "3.10.11"
  }
 },
 "nbformat": 4,
 "nbformat_minor": 2
}
