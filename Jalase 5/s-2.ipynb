{
 "cells": [
  {
   "cell_type": "code",
   "execution_count": 1,
   "metadata": {},
   "outputs": [
    {
     "name": "stdout",
     "output_type": "stream",
     "text": [
      "The minimum number is: 1.0\n",
      "The maximum number is: 20.0\n"
     ]
    }
   ],
   "source": [
    "def find_min_max():\n",
    "    numbers = []\n",
    "\n",
    "    for i in range(10):\n",
    "        num = float(input(f\"Enter number {i+1}: \"))\n",
    "        numbers.append(num)\n",
    "\n",
    "    min_num = numbers[0]\n",
    "    max_num = numbers[0]\n",
    "\n",
    "    for num in numbers[1:]:\n",
    "        if num < min_num:\n",
    "            min_num = num\n",
    "        if num > max_num:\n",
    "            max_num = num\n",
    "\n",
    "    print(f\"The minimum number is: {min_num}\")\n",
    "    print(f\"The maximum number is: {max_num}\")\n",
    "\n",
    "find_min_max()\n",
    "\n"
   ]
  }
 ],
 "metadata": {
  "kernelspec": {
   "display_name": "Python 3",
   "language": "python",
   "name": "python3"
  },
  "language_info": {
   "codemirror_mode": {
    "name": "ipython",
    "version": 3
   },
   "file_extension": ".py",
   "mimetype": "text/x-python",
   "name": "python",
   "nbconvert_exporter": "python",
   "pygments_lexer": "ipython3",
   "version": "3.10.11"
  }
 },
 "nbformat": 4,
 "nbformat_minor": 2
}
